{
 "cells": [
  {
   "cell_type": "markdown",
   "source": [
    "# Data Exploration"
   ],
   "metadata": {
    "collapsed": false
   },
   "id": "4799cf0332cd18ef"
  },
  {
   "cell_type": "code",
   "id": "initial_id",
   "metadata": {
    "collapsed": true,
    "ExecuteTime": {
     "end_time": "2024-07-24T04:11:26.191402Z",
     "start_time": "2024-07-24T04:11:18.654883Z"
    }
   },
   "source": [
    "import pandas as pd\n",
    "import numpy as np \n",
    "import librosa"
   ],
   "outputs": [],
   "execution_count": 1
  },
  {
   "cell_type": "code",
   "outputs": [
    {
     "name": "stdout",
     "output_type": "stream",
     "text": [
      "1.26.4\n"
     ]
    }
   ],
   "source": [
    "print(np.__version__)"
   ],
   "metadata": {
    "collapsed": false,
    "ExecuteTime": {
     "end_time": "2024-07-24T04:11:26.195181Z",
     "start_time": "2024-07-24T04:11:26.192696Z"
    }
   },
   "id": "5c2a93ee10f51c64",
   "execution_count": 2
  },
  {
   "metadata": {
    "ExecuteTime": {
     "end_time": "2024-07-24T04:11:30.095973Z",
     "start_time": "2024-07-24T04:11:30.014648Z"
    }
   },
   "cell_type": "code",
   "source": [
    "data_3 = pd.read_csv('Data/features_3_sec.csv')"
   ],
   "id": "4b3cdd234c05a510",
   "outputs": [],
   "execution_count": 3
  },
  {
   "metadata": {
    "ExecuteTime": {
     "end_time": "2024-07-24T04:11:30.354993Z",
     "start_time": "2024-07-24T04:11:30.342056Z"
    }
   },
   "cell_type": "code",
   "source": [
    "data_30 = pd.read_csv('Data/features_30_sec.csv')"
   ],
   "id": "f2f5a14d5d91c464",
   "outputs": [],
   "execution_count": 4
  },
  {
   "cell_type": "markdown",
   "source": [
    "## Exploring Audio"
   ],
   "metadata": {
    "collapsed": false
   },
   "id": "4ae9d408cb51d82e"
  },
  {
   "metadata": {
    "ExecuteTime": {
     "end_time": "2024-07-24T04:11:37.977793Z",
     "start_time": "2024-07-24T04:11:31.079966Z"
    }
   },
   "cell_type": "code",
   "outputs": [
    {
     "name": "stdout",
     "output_type": "stream",
     "text": [
      "[ 0.00732422  0.01660156  0.00762939 ... -0.05560303 -0.06106567\n",
      " -0.06417847]\n",
      "22050\n"
     ]
    }
   ],
   "execution_count": 5,
   "source": [
    "y, sample_rate = librosa.load('Data/genres_examples/blues.00000.wav')\n",
    "\n",
    "print(y)\n",
    "print(sample_rate)"
   ],
   "id": "d3e41a95e651713f"
  },
  {
   "cell_type": "code",
   "outputs": [],
   "source": [],
   "metadata": {
    "collapsed": false
   },
   "id": "fb9309da871e3834"
  }
 ],
 "metadata": {
  "kernelspec": {
   "name": ".venv",
   "language": "python",
   "display_name": "Python (.venv)"
  },
  "language_info": {
   "codemirror_mode": {
    "name": "ipython",
    "version": 2
   },
   "file_extension": ".py",
   "mimetype": "text/x-python",
   "name": "python",
   "nbconvert_exporter": "python",
   "pygments_lexer": "ipython2",
   "version": "2.7.6"
  }
 },
 "nbformat": 4,
 "nbformat_minor": 5
}
